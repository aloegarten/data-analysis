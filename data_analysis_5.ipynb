{
 "cells": [
  {
   "cell_type": "markdown",
   "id": "f3c894cf-de9a-4f2e-b691-59dae7545e23",
   "metadata": {
    "tags": []
   },
   "source": [
    "<div style=\"text-align: right; font-size: 20px\">Andrew Lee</div>\n",
    "<div style=\"text-align: right; font-size: 20px\">STAT 350 DL1</div>"
   ]
  },
  {
   "cell_type": "markdown",
   "id": "9d962dc4-26c5-4617-af2f-e49a8811d3cf",
   "metadata": {},
   "source": [
    "<div style=\"text-align: center; font-size: 24px; font-weight: bold\">Assignment #4</div>"
   ]
  },
  {
   "cell_type": "markdown",
   "id": "d6f5fa93-6c01-4961-b30e-57b05e415349",
   "metadata": {},
   "source": [
    "<div style=\"text-align: center; font-size: 18px\">Problem 1</div>"
   ]
  },
  {
   "cell_type": "code",
   "execution_count": 37,
   "id": "b95f4c7a-2065-4a36-b1a3-be8fb07cdabb",
   "metadata": {
    "tags": []
   },
   "outputs": [],
   "source": [
    "# Import library and dataset\n",
    "\n",
    "suppressMessages(library(readxl))\n",
    "suppressMessages(library(magrittr))\n",
    "suppressMessages(library(ggplot2))\n",
    "suppressMessages(library(tidyr))\n",
    "suppressMessages(library(dplyr))\n",
    "suppressMessages(library(broom))\n",
    "suppressMessages(library(png))\n",
    "\n",
    "physical_data <- read_excel(\"physical.xlsx\")"
   ]
  },
  {
   "cell_type": "markdown",
   "id": "c42a8f95-439b-42f8-b6a2-ade42c341582",
   "metadata": {
    "tags": []
   },
   "source": [
    "#### a). Our sample proportion would be 0.3470."
   ]
  },
  {
   "cell_type": "code",
   "execution_count": 2,
   "id": "094c88d8-7d03-4c7f-8c40-85e5c7c2e8c1",
   "metadata": {
    "tags": []
   },
   "outputs": [],
   "source": [
    "# Rename column\n",
    "colnames(physical_data)[colnames(physical_data) == \"Exercise?\"] <- \"exercise\""
   ]
  },
  {
   "cell_type": "code",
   "execution_count": 3,
   "id": "6fd420c4-ee21-4c2b-919f-82ca3a6ada6e",
   "metadata": {
    "tags": []
   },
   "outputs": [
    {
     "data": {
      "text/html": [
       "<table class=\"dataframe\">\n",
       "<caption>A data.frame: 1 × 2</caption>\n",
       "<thead>\n",
       "\t<tr><th scope=col>relative_freq</th><th scope=col>frequency</th></tr>\n",
       "\t<tr><th scope=col>&lt;dbl&gt;</th><th scope=col>&lt;dbl&gt;</th></tr>\n",
       "</thead>\n",
       "<tbody>\n",
       "\t<tr><td>0.3470106</td><td>296</td></tr>\n",
       "</tbody>\n",
       "</table>\n"
      ],
      "text/latex": [
       "A data.frame: 1 × 2\n",
       "\\begin{tabular}{ll}\n",
       " relative\\_freq & frequency\\\\\n",
       " <dbl> & <dbl>\\\\\n",
       "\\hline\n",
       "\t 0.3470106 & 296\\\\\n",
       "\\end{tabular}\n"
      ],
      "text/markdown": [
       "\n",
       "A data.frame: 1 × 2\n",
       "\n",
       "| relative_freq &lt;dbl&gt; | frequency &lt;dbl&gt; |\n",
       "|---|---|\n",
       "| 0.3470106 | 296 |\n",
       "\n"
      ],
      "text/plain": [
       "  relative_freq frequency\n",
       "1 0.3470106     296      "
      ]
     },
     "metadata": {},
     "output_type": "display_data"
    }
   ],
   "source": [
    "# Calculating and displaying the frequency\n",
    "\n",
    "# Calculate the frequency\n",
    "freq <- nrow(physical_data) - sum(physical_data$exercise)\n",
    "  \n",
    "# Calculate the relative frequency for active\n",
    "rel_freq <- freq / nrow(physical_data)\n",
    "\n",
    "# Create a data frame to display the results\n",
    "freq_df <- data.frame(relative_freq = rel_freq, frequency = freq)\n",
    "\n",
    "# Display the data frame\n",
    "freq_df"
   ]
  },
  {
   "cell_type": "markdown",
   "id": "8942740d-aace-4b2e-8607-5ba762d4698a",
   "metadata": {
    "tags": []
   },
   "source": [
    "#### b). Our population parameter is the proportion of all US adults who do not exercise. In this problem it is estimated to be 0.32 or 32% of all US adults."
   ]
  },
  {
   "cell_type": "markdown",
   "id": "ce3f55f6-6d10-4e9f-be85-6a259778b08b",
   "metadata": {
    "tags": []
   },
   "source": [
    "#### c). Our null hypothesis would be p = 0.32 and our alternative hypothesis would be p > 0.32."
   ]
  },
  {
   "cell_type": "markdown",
   "id": "c912519c-6582-4589-bc18-21ffab32fac1",
   "metadata": {
    "tags": []
   },
   "source": [
    "#### d). **WORK/CODE shown below:** This dataset does pass the conditions of CLT to use the one proportion z-test as there are both 10 > successes and failures."
   ]
  },
  {
   "cell_type": "code",
   "execution_count": 9,
   "id": "9ce77cfc-1db4-4e99-8869-3bc0e7f43b87",
   "metadata": {
    "tags": []
   },
   "outputs": [
    {
     "data": {
      "text/html": [
       "<table class=\"dataframe\">\n",
       "<caption>A data.frame: 1 × 2</caption>\n",
       "<thead>\n",
       "\t<tr><th scope=col>success</th><th scope=col>failure</th></tr>\n",
       "\t<tr><th scope=col>&lt;dbl&gt;</th><th scope=col>&lt;dbl&gt;</th></tr>\n",
       "</thead>\n",
       "<tbody>\n",
       "\t<tr><td>272.96</td><td>580.04</td></tr>\n",
       "</tbody>\n",
       "</table>\n"
      ],
      "text/latex": [
       "A data.frame: 1 × 2\n",
       "\\begin{tabular}{ll}\n",
       " success & failure\\\\\n",
       " <dbl> & <dbl>\\\\\n",
       "\\hline\n",
       "\t 272.96 & 580.04\\\\\n",
       "\\end{tabular}\n"
      ],
      "text/markdown": [
       "\n",
       "A data.frame: 1 × 2\n",
       "\n",
       "| success &lt;dbl&gt; | failure &lt;dbl&gt; |\n",
       "|---|---|\n",
       "| 272.96 | 580.04 |\n",
       "\n"
      ],
      "text/plain": [
       "  success failure\n",
       "1 272.96  580.04 "
      ]
     },
     "metadata": {},
     "output_type": "display_data"
    }
   ],
   "source": [
    "# Calculating the number of successes\n",
    "successes <- 0.32 * 853\n",
    "\n",
    "# Calculating the number of failures\n",
    "failures <- 0.68 * 853\n",
    "\n",
    "# Create a data frame to display the results\n",
    "clt_req_df <- data.frame(success = successes, failure = failures)\n",
    "\n",
    "clt_req_df"
   ]
  },
  {
   "cell_type": "markdown",
   "id": "2e7ae3db-89cf-49cc-a1f8-487668831e33",
   "metadata": {
    "tags": []
   },
   "source": [
    "#### e). Our test stat is: 1.69 and we got this by first calculating our standard error by taking the square root of the product of the estimated population proportion and its complement, divided by the sample size. Then we divide the difference between our observed proportion by our null proportion by our standard error to get our test statistic"
   ]
  },
  {
   "cell_type": "code",
   "execution_count": 10,
   "id": "67393822-2fbc-401b-9f4e-acc71e7e21a3",
   "metadata": {
    "tags": []
   },
   "outputs": [
    {
     "data": {
      "text/html": [
       "<table class=\"dataframe\">\n",
       "<caption>A data.frame: 1 × 1</caption>\n",
       "<thead>\n",
       "\t<tr><th scope=col>test_stat</th></tr>\n",
       "\t<tr><th scope=col>&lt;dbl&gt;</th></tr>\n",
       "</thead>\n",
       "<tbody>\n",
       "\t<tr><td>1.691139</td></tr>\n",
       "</tbody>\n",
       "</table>\n"
      ],
      "text/latex": [
       "A data.frame: 1 × 1\n",
       "\\begin{tabular}{l}\n",
       " test\\_stat\\\\\n",
       " <dbl>\\\\\n",
       "\\hline\n",
       "\t 1.691139\\\\\n",
       "\\end{tabular}\n"
      ],
      "text/markdown": [
       "\n",
       "A data.frame: 1 × 1\n",
       "\n",
       "| test_stat &lt;dbl&gt; |\n",
       "|---|\n",
       "| 1.691139 |\n",
       "\n"
      ],
      "text/plain": [
       "  test_stat\n",
       "1 1.691139 "
      ]
     },
     "metadata": {},
     "output_type": "display_data"
    }
   ],
   "source": [
    "# Sample data\n",
    "null_prop <- 0.32\n",
    "sample_size <- 853\n",
    "\n",
    "# Calculate standard error\n",
    "SE <- sqrt((null_prop * (1 - null_prop)) / sample_size)\n",
    "\n",
    "# Calculate the test stat\n",
    "observed_prop <- 0.3470106\n",
    "z_stat <- (observed_prop - null_prop) / SE\n",
    "\n",
    "# Display the test stat\n",
    "data.frame(test_stat = z_stat)"
   ]
  },
  {
   "cell_type": "markdown",
   "id": "ebc3499d-8350-4ff2-949d-6653d329f62e",
   "metadata": {},
   "source": [
    "#### f). <img src=\"ztest.png\">"
   ]
  },
  {
   "cell_type": "markdown",
   "id": "99eb6d2f-85fe-4f6c-9cfb-14a5e9ece390",
   "metadata": {
    "tags": []
   },
   "source": [
    "#### g). We have sufficient evidence to reject our null hypothesis (the population proportion of US adults who do not exercise is equal to 0.32) as our p of 0.0454 value is less than our significance level of 0.05"
   ]
  },
  {
   "cell_type": "markdown",
   "id": "a0342e27-3a50-4145-b4ba-cb522dc4affd",
   "metadata": {},
   "source": [
    "#### h). We significant evidence to suggest that the proportion of US adults who do not exercise who do not exercise is greater than 0.32."
   ]
  },
  {
   "cell_type": "markdown",
   "id": "d5bce553-476b-43d8-8592-866c1b27ea41",
   "metadata": {},
   "source": [
    "#### i). If our significance level were to change to 0.01 we would fail to reject our null hypothesis as our p-value of 0.0454 is greater than our signifance level. This would be that we do NOT have significant evidence to suggest that the proportion of US adults who do not exercise is greater than 0.32."
   ]
  },
  {
   "cell_type": "markdown",
   "id": "f3db28e4-ac9c-48c1-99bc-16c857ad4062",
   "metadata": {},
   "source": [
    "<div style=\"text-align: center; font-size: 18px\">Problem 2</div>"
   ]
  },
  {
   "cell_type": "markdown",
   "id": "b67d571c-9dcb-4e56-b3ad-0d786df3e650",
   "metadata": {},
   "source": [
    "#### a)."
   ]
  },
  {
   "cell_type": "code",
   "execution_count": 11,
   "id": "0afbbacf-d523-4039-8220-b23faec23733",
   "metadata": {
    "tags": []
   },
   "outputs": [
    {
     "data": {
      "text/html": [
       "<table class=\"dataframe\">\n",
       "<caption>A data.frame: 3 × 4</caption>\n",
       "<thead>\n",
       "\t<tr><th scope=col>.</th><th scope=col>forty_younger</th><th scope=col>fourty_one_older</th><th scope=col>total</th></tr>\n",
       "\t<tr><th scope=col>&lt;chr&gt;</th><th scope=col>&lt;dbl&gt;</th><th scope=col>&lt;dbl&gt;</th><th scope=col>&lt;dbl&gt;</th></tr>\n",
       "</thead>\n",
       "<tbody>\n",
       "\t<tr><td>Open all mail      </td><td>414</td><td>532</td><td> 946</td></tr>\n",
       "\t<tr><td>Don't open all mail</td><td>386</td><td>368</td><td> 754</td></tr>\n",
       "\t<tr><td>                   </td><td>800</td><td>900</td><td>1700</td></tr>\n",
       "</tbody>\n",
       "</table>\n"
      ],
      "text/latex": [
       "A data.frame: 3 × 4\n",
       "\\begin{tabular}{llll}\n",
       " . & forty\\_younger & fourty\\_one\\_older & total\\\\\n",
       " <chr> & <dbl> & <dbl> & <dbl>\\\\\n",
       "\\hline\n",
       "\t Open all mail       & 414 & 532 &  946\\\\\n",
       "\t Don't open all mail & 386 & 368 &  754\\\\\n",
       "\t                     & 800 & 900 & 1700\\\\\n",
       "\\end{tabular}\n"
      ],
      "text/markdown": [
       "\n",
       "A data.frame: 3 × 4\n",
       "\n",
       "| . &lt;chr&gt; | forty_younger &lt;dbl&gt; | fourty_one_older &lt;dbl&gt; | total &lt;dbl&gt; |\n",
       "|---|---|---|---|\n",
       "| Open all mail       | 414 | 532 |  946 |\n",
       "| Don't open all mail | 386 | 368 |  754 |\n",
       "| <!----> | 800 | 900 | 1700 |\n",
       "\n"
      ],
      "text/plain": [
       "  .                   forty_younger fourty_one_older total\n",
       "1 Open all mail       414           532               946 \n",
       "2 Don't open all mail 386           368               754 \n",
       "3                     800           900              1700 "
      ]
     },
     "metadata": {},
     "output_type": "display_data"
    }
   ],
   "source": [
    "data.frame(\".\" = c(\"Open all mail\", \"Don't open all mail\", \" \"), \n",
    "           \"forty_younger\" = c(414, 386, 800),\n",
    "           \"fourty_one_older\" = c(532, 368, 900),\n",
    "           \"total\" = c(414 + 532, 368 + 386, 1700))"
   ]
  },
  {
   "cell_type": "markdown",
   "id": "56e9065e-1216-4d0e-a1f2-95157830f100",
   "metadata": {},
   "source": [
    "#### b). The null hypothesis is that there is no difference in the proportions of individuals opening their mail among the age groups: H0: p1 - p2 = 0 The alternative hypothesis is that there is a difference in the proportions of individuals opening their mail among the age groups: HA: p1 - p2 ≠ 0 where p1 and p2 are the true population proportions of individuals who open all of their mail in the 40 and younger age group and the 41 and older age group, respectively."
   ]
  },
  {
   "cell_type": "markdown",
   "id": "8c85a73a-2c09-4ca2-ad1d-50151e322664",
   "metadata": {},
   "source": [
    "#### c). To estimate our parameter (p1 - p2) we will use the difference of p(hat)1 = 414/800 = 0.5175 and p(hat)2 = 532/900 = 0.5911 to get a value of -0.0736."
   ]
  },
  {
   "cell_type": "markdown",
   "id": "5fa55dcb-9c61-4eff-9c82-130b63b08e2e",
   "metadata": {},
   "source": [
    "#### d). To check our conditions, we must verify that the samples are both random, independent, and large enough. We know our sample is both random and independent because 1. a person cannot be in both groups at the same time 2. the prompt specifies that the sample was collected randomly. To check if the sample is large enough, we need to check the success-failure condition. Both samples have more than 10 successes and 10 failures, so we can conclude that the success-failure condition is met.\n",
    "\n",
    "#### For the 40 and younger age group sample:\n",
    "##### - Number of successes (individuals who open all of their mail) = 414\n",
    "##### - Number of failures (individuals who do not open all of their mail) = 386\n",
    "\n",
    "#### For the 41 and older age group sample:\n",
    "##### - Number of successes (individuals who open all of their mail) = 532\n",
    "##### - Number of failures (individuals who do not open all of their mail) = 368"
   ]
  },
  {
   "cell_type": "markdown",
   "id": "92b303bd-7852-4238-abf5-86f06fb5b037",
   "metadata": {},
   "source": [
    "#### e). Our test statistic would be -3.0493 and our p value would be 0.0023"
   ]
  },
  {
   "cell_type": "code",
   "execution_count": 12,
   "id": "3099983f-b194-45c0-a28e-f48fdd9dfdef",
   "metadata": {
    "tags": []
   },
   "outputs": [
    {
     "data": {
      "text/html": [
       "<table class=\"dataframe\">\n",
       "<caption>A data.frame: 1 × 1</caption>\n",
       "<thead>\n",
       "\t<tr><th scope=col>test_stat</th></tr>\n",
       "\t<tr><th scope=col>&lt;dbl&gt;</th></tr>\n",
       "</thead>\n",
       "<tbody>\n",
       "\t<tr><td>-3.049319</td></tr>\n",
       "</tbody>\n",
       "</table>\n"
      ],
      "text/latex": [
       "A data.frame: 1 × 1\n",
       "\\begin{tabular}{l}\n",
       " test\\_stat\\\\\n",
       " <dbl>\\\\\n",
       "\\hline\n",
       "\t -3.049319\\\\\n",
       "\\end{tabular}\n"
      ],
      "text/markdown": [
       "\n",
       "A data.frame: 1 × 1\n",
       "\n",
       "| test_stat &lt;dbl&gt; |\n",
       "|---|\n",
       "| -3.049319 |\n",
       "\n"
      ],
      "text/plain": [
       "  test_stat\n",
       "1 -3.049319"
      ]
     },
     "metadata": {},
     "output_type": "display_data"
    }
   ],
   "source": [
    "# Sample proportions and sample sizes\n",
    "p1 <- 414/800\n",
    "p2 <- 532/900\n",
    "n1 <- 800\n",
    "n2 <- 900\n",
    "combined <- ((414 + 532)/(900 + 800))\n",
    "\n",
    "# Standard error of the difference in proportions\n",
    "SE <- sqrt(combined * (1 - combined) * ((1/n1) + (1/n2)))\n",
    "\n",
    "# Difference in sample proportions\n",
    "p_diff <- p1 - p2\n",
    "\n",
    "# Z-statistic\n",
    "z <- p_diff / SE\n",
    "\n",
    "data.frame(test_stat = z)"
   ]
  },
  {
   "cell_type": "markdown",
   "id": "2bde4e2c-b24f-49bd-8d36-d1cbc77c57c4",
   "metadata": {
    "tags": []
   },
   "source": []
  },
  {
   "cell_type": "markdown",
   "id": "97b1bb25-711d-4b9d-a6c6-b336ab7628f8",
   "metadata": {},
   "source": [
    "<img src=\"ztest_2.png\">"
   ]
  },
  {
   "cell_type": "markdown",
   "id": "7dab04e7-6ae7-4b25-a8b9-e30bc1530e3e",
   "metadata": {},
   "source": [
    "#### f). Our p value of 0.0023 would make us reject the null hypothesis and tells us that there is significant evidence that there is a difference between the proportion between the age groups for the people who open their mail."
   ]
  },
  {
   "cell_type": "markdown",
   "id": "5b773048-78b1-4bb2-8eef-6c795c89c9c0",
   "metadata": {},
   "source": [
    "#### g). H0: There is no association between age group and the proportion of people who open all of their mail. (They are independent) HA: There is an association between age group and the proportion of people who open all of their mail. (They are dependent)"
   ]
  },
  {
   "cell_type": "markdown",
   "id": "9060690a-ba27-4a6d-990f-50208a168ca8",
   "metadata": {},
   "source": [
    "#### h). Our first condition of a multinomial experiment is satisfied as we have a random sample from our populations of interest. Our second condition is satisfied as every expected value is > 5"
   ]
  },
  {
   "cell_type": "code",
   "execution_count": 13,
   "id": "d36d646e-e3b4-4d86-9fe5-1f6cfbb10813",
   "metadata": {
    "tags": []
   },
   "outputs": [
    {
     "data": {
      "text/html": [
       "<table class=\"dataframe\">\n",
       "<caption>A matrix: 2 × 2 of type dbl</caption>\n",
       "<thead>\n",
       "\t<tr><th></th><th scope=col>Forty Minus</th><th scope=col>Forty One Plus</th></tr>\n",
       "</thead>\n",
       "<tbody>\n",
       "\t<tr><th scope=row>Open</th><td>445.1765</td><td>500.8235</td></tr>\n",
       "\t<tr><th scope=row>Don't Open</th><td>354.8235</td><td>399.1765</td></tr>\n",
       "</tbody>\n",
       "</table>\n"
      ],
      "text/latex": [
       "A matrix: 2 × 2 of type dbl\n",
       "\\begin{tabular}{r|ll}\n",
       "  & Forty Minus & Forty One Plus\\\\\n",
       "\\hline\n",
       "\tOpen & 445.1765 & 500.8235\\\\\n",
       "\tDon't Open & 354.8235 & 399.1765\\\\\n",
       "\\end{tabular}\n"
      ],
      "text/markdown": [
       "\n",
       "A matrix: 2 × 2 of type dbl\n",
       "\n",
       "| <!--/--> | Forty Minus | Forty One Plus |\n",
       "|---|---|---|\n",
       "| Open | 445.1765 | 500.8235 |\n",
       "| Don't Open | 354.8235 | 399.1765 |\n",
       "\n"
      ],
      "text/plain": [
       "           Forty Minus Forty One Plus\n",
       "Open       445.1765    500.8235      \n",
       "Don't Open 354.8235    399.1765      "
      ]
     },
     "metadata": {},
     "output_type": "display_data"
    }
   ],
   "source": [
    "# Calc our expected values\n",
    "grand_total <- sum(matrix(c(414, 386, 532, 368), byrow = TRUE, ncol = 2))\n",
    "expected <- matrix(c(\n",
    "  (rowSums(matrix(c(414, 386, 532, 368), byrow = TRUE, ncol = 2))[1] * colSums(matrix(c(414, 386, 532, 368), byrow = TRUE, ncol = 2))[1])/grand_total,\n",
    "  (rowSums(matrix(c(414, 386, 532, 368), byrow = TRUE, ncol = 2))[2] * colSums(matrix(c(414, 386, 532, 368), byrow = TRUE, ncol = 2))[1])/grand_total,\n",
    "  (rowSums(matrix(c(414, 386, 532, 368), byrow = TRUE, ncol = 2))[1] * colSums(matrix(c(414, 386, 532, 368), byrow = TRUE, ncol = 2))[2])/grand_total,\n",
    "  (rowSums(matrix(c(414, 386, 532, 368), byrow = TRUE, ncol = 2))[2] * colSums(matrix(c(414, 386, 532, 368), byrow = TRUE, ncol = 2))[2])/grand_total\n",
    "), byrow = TRUE, ncol = 2)\n",
    "\n",
    "rownames(expected) <- c(\"Open\", \"Don't Open\")\n",
    "colnames(expected) <- c(\"Forty Minus\", \"Forty One Plus\")\n",
    "\n",
    "expected"
   ]
  },
  {
   "cell_type": "markdown",
   "id": "f1a3c593-e45e-4440-b305-d838b1650af5",
   "metadata": {},
   "source": [
    "#### i). In order to get our expected values, we need to divide the product of our row total and column total by our grand total. (Work/code doing this shown in part h)\n",
    "\n",
    "#### In order to calculate individual impact to chi-squared we will square the difference between our observed and expected and divide that by our observed value. WE will sum these together to get chi squared. (Work/code doing this shown below)"
   ]
  },
  {
   "cell_type": "code",
   "execution_count": 14,
   "id": "4e33e7e0-621d-4aae-b88e-32337ede002a",
   "metadata": {
    "tags": []
   },
   "outputs": [
    {
     "data": {
      "text/html": [
       "<table class=\"dataframe\">\n",
       "<caption>A matrix: 2 × 2 of type dbl</caption>\n",
       "<thead>\n",
       "\t<tr><th></th><th scope=col>Forty Minus</th><th scope=col>Forty One Plus</th></tr>\n",
       "</thead>\n",
       "<tbody>\n",
       "\t<tr><th scope=row>Open</th><td>445.1765</td><td>500.8235</td></tr>\n",
       "\t<tr><th scope=row>Don't Open</th><td>354.8235</td><td>399.1765</td></tr>\n",
       "</tbody>\n",
       "</table>\n"
      ],
      "text/latex": [
       "A matrix: 2 × 2 of type dbl\n",
       "\\begin{tabular}{r|ll}\n",
       "  & Forty Minus & Forty One Plus\\\\\n",
       "\\hline\n",
       "\tOpen & 445.1765 & 500.8235\\\\\n",
       "\tDon't Open & 354.8235 & 399.1765\\\\\n",
       "\\end{tabular}\n"
      ],
      "text/markdown": [
       "\n",
       "A matrix: 2 × 2 of type dbl\n",
       "\n",
       "| <!--/--> | Forty Minus | Forty One Plus |\n",
       "|---|---|---|\n",
       "| Open | 445.1765 | 500.8235 |\n",
       "| Don't Open | 354.8235 | 399.1765 |\n",
       "\n"
      ],
      "text/plain": [
       "           Forty Minus Forty One Plus\n",
       "Open       445.1765    500.8235      \n",
       "Don't Open 354.8235    399.1765      "
      ]
     },
     "metadata": {},
     "output_type": "display_data"
    }
   ],
   "source": [
    "# Display our expected values\n",
    "expected"
   ]
  },
  {
   "cell_type": "code",
   "execution_count": 15,
   "id": "f76c911b-72fb-48a7-876f-1270e1fb0d80",
   "metadata": {
    "tags": []
   },
   "outputs": [
    {
     "data": {
      "text/html": [
       "<table class=\"dataframe\">\n",
       "<caption>A matrix: 2 × 2 of type dbl</caption>\n",
       "<thead>\n",
       "\t<tr><th></th><th scope=col>Forty Minus</th><th scope=col>Forty One Plus</th></tr>\n",
       "</thead>\n",
       "<tbody>\n",
       "\t<tr><th scope=row>Open</th><td>2.183342</td><td>1.940748</td></tr>\n",
       "\t<tr><th scope=row>Don't Open</th><td>2.739312</td><td>2.434944</td></tr>\n",
       "</tbody>\n",
       "</table>\n"
      ],
      "text/latex": [
       "A matrix: 2 × 2 of type dbl\n",
       "\\begin{tabular}{r|ll}\n",
       "  & Forty Minus & Forty One Plus\\\\\n",
       "\\hline\n",
       "\tOpen & 2.183342 & 1.940748\\\\\n",
       "\tDon't Open & 2.739312 & 2.434944\\\\\n",
       "\\end{tabular}\n"
      ],
      "text/markdown": [
       "\n",
       "A matrix: 2 × 2 of type dbl\n",
       "\n",
       "| <!--/--> | Forty Minus | Forty One Plus |\n",
       "|---|---|---|\n",
       "| Open | 2.183342 | 1.940748 |\n",
       "| Don't Open | 2.739312 | 2.434944 |\n",
       "\n"
      ],
      "text/plain": [
       "           Forty Minus Forty One Plus\n",
       "Open       2.183342    1.940748      \n",
       "Don't Open 2.739312    2.434944      "
      ]
     },
     "metadata": {},
     "output_type": "display_data"
    },
    {
     "data": {
      "text/html": [
       "<table class=\"dataframe\">\n",
       "<caption>A data.frame: 1 × 1</caption>\n",
       "<thead>\n",
       "\t<tr><th scope=col>chi_squared</th></tr>\n",
       "\t<tr><th scope=col>&lt;dbl&gt;</th></tr>\n",
       "</thead>\n",
       "<tbody>\n",
       "\t<tr><td>9.298346</td></tr>\n",
       "</tbody>\n",
       "</table>\n"
      ],
      "text/latex": [
       "A data.frame: 1 × 1\n",
       "\\begin{tabular}{l}\n",
       " chi\\_squared\\\\\n",
       " <dbl>\\\\\n",
       "\\hline\n",
       "\t 9.298346\\\\\n",
       "\\end{tabular}\n"
      ],
      "text/markdown": [
       "\n",
       "A data.frame: 1 × 1\n",
       "\n",
       "| chi_squared &lt;dbl&gt; |\n",
       "|---|\n",
       "| 9.298346 |\n",
       "\n"
      ],
      "text/plain": [
       "  chi_squared\n",
       "1 9.298346   "
      ]
     },
     "metadata": {},
     "output_type": "display_data"
    }
   ],
   "source": [
    "# Format data in a way that we can create contingency table\n",
    "observed = matrix(c(414, 532, 386, 368), byrow = TRUE, ncol = 2)\n",
    "\n",
    "# Initialize an empty matrix with the same dimensions as the observed matrix\n",
    "contribution_mat <- matrix(0, nrow = nrow(observed), ncol = ncol(observed))\n",
    "\n",
    "# Loop through each cell in the matrices and calculate the contribution to chi-square\n",
    "for (i in 1:nrow(observed)) {\n",
    "  for (j in 1:ncol(observed)) {\n",
    "    contribution_mat[i, j] <- ((observed[i, j] - expected[i, j])^2) / expected[i, j]\n",
    "  }\n",
    "}\n",
    "\n",
    "rownames(contribution_mat) <- c(\"Open\", \"Don't Open\")\n",
    "colnames(contribution_mat) <- c(\"Forty Minus\", \"Forty One Plus\")\n",
    "\n",
    "# Display the contributions to chi squared\n",
    "contribution_mat\n",
    "\n",
    "# Sum them together to get chi squared\n",
    "data.frame(chi_squared = sum(contribution_mat))"
   ]
  },
  {
   "cell_type": "markdown",
   "id": "fd9ac020-86de-447e-8d10-68cae077593c",
   "metadata": {},
   "source": [
    "#### j)."
   ]
  },
  {
   "cell_type": "code",
   "execution_count": 38,
   "id": "458ea737-f7fb-432f-87a1-84773788e08a",
   "metadata": {
    "tags": []
   },
   "outputs": [
    {
     "data": {
      "text/html": [
       "<table class=\"dataframe\">\n",
       "<caption>A tibble: 1 × 4</caption>\n",
       "<thead>\n",
       "\t<tr><th scope=col>statistic</th><th scope=col>p.value</th><th scope=col>parameter</th><th scope=col>method</th></tr>\n",
       "\t<tr><th scope=col>&lt;dbl&gt;</th><th scope=col>&lt;dbl&gt;</th><th scope=col>&lt;dbl&gt;</th><th scope=col>&lt;chr&gt;</th></tr>\n",
       "</thead>\n",
       "<tbody>\n",
       "\t<tr><td>16.06588</td><td>0.01340469</td><td>6</td><td>Chi-squared test for given probabilities</td></tr>\n",
       "</tbody>\n",
       "</table>\n"
      ],
      "text/latex": [
       "A tibble: 1 × 4\n",
       "\\begin{tabular}{llll}\n",
       " statistic & p.value & parameter & method\\\\\n",
       " <dbl> & <dbl> & <dbl> & <chr>\\\\\n",
       "\\hline\n",
       "\t 16.06588 & 0.01340469 & 6 & Chi-squared test for given probabilities\\\\\n",
       "\\end{tabular}\n"
      ],
      "text/markdown": [
       "\n",
       "A tibble: 1 × 4\n",
       "\n",
       "| statistic &lt;dbl&gt; | p.value &lt;dbl&gt; | parameter &lt;dbl&gt; | method &lt;chr&gt; |\n",
       "|---|---|---|---|\n",
       "| 16.06588 | 0.01340469 | 6 | Chi-squared test for given probabilities |\n",
       "\n"
      ],
      "text/plain": [
       "  statistic p.value    parameter method                                  \n",
       "1 16.06588  0.01340469 6         Chi-squared test for given probabilities"
      ]
     },
     "metadata": {},
     "output_type": "display_data"
    }
   ],
   "source": [
    "# Verifying our results\n",
    "chisq.test(observed, correct = FALSE) %>%\n",
    "    glance()"
   ]
  },
  {
   "cell_type": "markdown",
   "id": "658c8271-5ca1-48c6-b015-76c7edcccec2",
   "metadata": {},
   "source": [
    "#### k). We would reject our null hypothesis as we have signifcant evidence to suggest that our there is an association between age group and the proportion of people who open all of their mail. (They are dependent)"
   ]
  },
  {
   "cell_type": "markdown",
   "id": "0a604d3d-2928-46d1-a217-7831d02527b5",
   "metadata": {},
   "source": [
    "#### l). The people who are younger than 40 and don't open all their mail contributed the most towards the chi-squared value. However, all of the cells seemed to contribute similarly to the chi squared value"
   ]
  },
  {
   "cell_type": "markdown",
   "id": "18f7ce2a-b30c-48d4-9007-7864ce0bf461",
   "metadata": {
    "tags": []
   },
   "source": [
    "<div style=\"text-align: center; font-size: 18px\">Problem 3</div>"
   ]
  },
  {
   "cell_type": "markdown",
   "id": "eadb5226-06ff-42d6-83c5-c59a69973305",
   "metadata": {},
   "source": [
    "#### a). The null hypothesis is that all seven days of the week are equally likely for childbirth, and the alternative hypothesis is that they are not equally likely. H0: p1 = p2 = p3 = p4 = p5 = p6 = p7 = 1/7 HA: At least one pi is different from the others. Where p1, p2, ..., p7 are the probabilities of being born on Monday, Tuesday, ..., Sunday, respectively."
   ]
  },
  {
   "cell_type": "markdown",
   "id": "f5de3545",
   "metadata": {},
   "source": [
    "#### b). Our conditions are fulfilled as the number of sucesses is 5> for each level. Additionally, the sample was collected randomly and each observation is independent\n",
    "\n",
    "#### Our test statistic is 16.06588."
   ]
  },
  {
   "cell_type": "code",
   "execution_count": 41,
   "id": "446a20b2",
   "metadata": {
    "tags": []
   },
   "outputs": [
    {
     "data": {
      "text/html": [
       "<table class=\"dataframe\">\n",
       "<caption>A data.frame: 7 × 1</caption>\n",
       "<thead>\n",
       "\t<tr><th></th><th scope=col>expected</th></tr>\n",
       "\t<tr><th></th><th scope=col>&lt;dbl&gt;</th></tr>\n",
       "</thead>\n",
       "<tbody>\n",
       "\t<tr><th scope=row>Monday</th><td>60.71429</td></tr>\n",
       "\t<tr><th scope=row>Tuesday</th><td>60.71429</td></tr>\n",
       "\t<tr><th scope=row>Wednesday</th><td>60.71429</td></tr>\n",
       "\t<tr><th scope=row>Thursday</th><td>60.71429</td></tr>\n",
       "\t<tr><th scope=row>Friday</th><td>60.71429</td></tr>\n",
       "\t<tr><th scope=row>Saturday</th><td>60.71429</td></tr>\n",
       "\t<tr><th scope=row>Sunday</th><td>60.71429</td></tr>\n",
       "</tbody>\n",
       "</table>\n"
      ],
      "text/latex": [
       "A data.frame: 7 × 1\n",
       "\\begin{tabular}{r|l}\n",
       "  & expected\\\\\n",
       "  & <dbl>\\\\\n",
       "\\hline\n",
       "\tMonday & 60.71429\\\\\n",
       "\tTuesday & 60.71429\\\\\n",
       "\tWednesday & 60.71429\\\\\n",
       "\tThursday & 60.71429\\\\\n",
       "\tFriday & 60.71429\\\\\n",
       "\tSaturday & 60.71429\\\\\n",
       "\tSunday & 60.71429\\\\\n",
       "\\end{tabular}\n"
      ],
      "text/markdown": [
       "\n",
       "A data.frame: 7 × 1\n",
       "\n",
       "| <!--/--> | expected &lt;dbl&gt; |\n",
       "|---|---|\n",
       "| Monday | 60.71429 |\n",
       "| Tuesday | 60.71429 |\n",
       "| Wednesday | 60.71429 |\n",
       "| Thursday | 60.71429 |\n",
       "| Friday | 60.71429 |\n",
       "| Saturday | 60.71429 |\n",
       "| Sunday | 60.71429 |\n",
       "\n"
      ],
      "text/plain": [
       "          expected\n",
       "Monday    60.71429\n",
       "Tuesday   60.71429\n",
       "Wednesday 60.71429\n",
       "Thursday  60.71429\n",
       "Friday    60.71429\n",
       "Saturday  60.71429\n",
       "Sunday    60.71429"
      ]
     },
     "metadata": {},
     "output_type": "display_data"
    },
    {
     "data": {
      "text/html": [
       "<table class=\"dataframe\">\n",
       "<caption>A data.frame: 7 × 1</caption>\n",
       "<thead>\n",
       "\t<tr><th></th><th scope=col>observed</th></tr>\n",
       "\t<tr><th></th><th scope=col>&lt;dbl&gt;</th></tr>\n",
       "</thead>\n",
       "<tbody>\n",
       "\t<tr><th scope=row>Monday</th><td>63</td></tr>\n",
       "\t<tr><th scope=row>Tuesday</th><td>70</td></tr>\n",
       "\t<tr><th scope=row>Wednesday</th><td>70</td></tr>\n",
       "\t<tr><th scope=row>Thursday</th><td>69</td></tr>\n",
       "\t<tr><th scope=row>Friday</th><td>68</td></tr>\n",
       "\t<tr><th scope=row>Saturday</th><td>45</td></tr>\n",
       "\t<tr><th scope=row>Sunday</th><td>40</td></tr>\n",
       "</tbody>\n",
       "</table>\n"
      ],
      "text/latex": [
       "A data.frame: 7 × 1\n",
       "\\begin{tabular}{r|l}\n",
       "  & observed\\\\\n",
       "  & <dbl>\\\\\n",
       "\\hline\n",
       "\tMonday & 63\\\\\n",
       "\tTuesday & 70\\\\\n",
       "\tWednesday & 70\\\\\n",
       "\tThursday & 69\\\\\n",
       "\tFriday & 68\\\\\n",
       "\tSaturday & 45\\\\\n",
       "\tSunday & 40\\\\\n",
       "\\end{tabular}\n"
      ],
      "text/markdown": [
       "\n",
       "A data.frame: 7 × 1\n",
       "\n",
       "| <!--/--> | observed &lt;dbl&gt; |\n",
       "|---|---|\n",
       "| Monday | 63 |\n",
       "| Tuesday | 70 |\n",
       "| Wednesday | 70 |\n",
       "| Thursday | 69 |\n",
       "| Friday | 68 |\n",
       "| Saturday | 45 |\n",
       "| Sunday | 40 |\n",
       "\n"
      ],
      "text/plain": [
       "          observed\n",
       "Monday    63      \n",
       "Tuesday   70      \n",
       "Wednesday 70      \n",
       "Thursday  69      \n",
       "Friday    68      \n",
       "Saturday  45      \n",
       "Sunday    40      "
      ]
     },
     "metadata": {},
     "output_type": "display_data"
    },
    {
     "data": {
      "text/html": [
       "<table class=\"dataframe\">\n",
       "<caption>A tibble: 1 × 4</caption>\n",
       "<thead>\n",
       "\t<tr><th scope=col>statistic</th><th scope=col>p.value</th><th scope=col>parameter</th><th scope=col>method</th></tr>\n",
       "\t<tr><th scope=col>&lt;dbl&gt;</th><th scope=col>&lt;dbl&gt;</th><th scope=col>&lt;dbl&gt;</th><th scope=col>&lt;chr&gt;</th></tr>\n",
       "</thead>\n",
       "<tbody>\n",
       "\t<tr><td>16.06588</td><td>0.01340469</td><td>6</td><td>Chi-squared test for given probabilities</td></tr>\n",
       "</tbody>\n",
       "</table>\n"
      ],
      "text/latex": [
       "A tibble: 1 × 4\n",
       "\\begin{tabular}{llll}\n",
       " statistic & p.value & parameter & method\\\\\n",
       " <dbl> & <dbl> & <dbl> & <chr>\\\\\n",
       "\\hline\n",
       "\t 16.06588 & 0.01340469 & 6 & Chi-squared test for given probabilities\\\\\n",
       "\\end{tabular}\n"
      ],
      "text/markdown": [
       "\n",
       "A tibble: 1 × 4\n",
       "\n",
       "| statistic &lt;dbl&gt; | p.value &lt;dbl&gt; | parameter &lt;dbl&gt; | method &lt;chr&gt; |\n",
       "|---|---|---|---|\n",
       "| 16.06588 | 0.01340469 | 6 | Chi-squared test for given probabilities |\n",
       "\n"
      ],
      "text/plain": [
       "  statistic p.value    parameter method                                  \n",
       "1 16.06588  0.01340469 6         Chi-squared test for given probabilities"
      ]
     },
     "metadata": {},
     "output_type": "display_data"
    }
   ],
   "source": [
    "# Checking conditions\n",
    "# perform chi-squared goodness-of-fit test\n",
    "observed <- c(63, 70, 70, 69, 68, 45, 40)\n",
    "expected_prop <- rep(1/7, 7)\n",
    "\n",
    "births_test <- chisq.test(x = observed, p = expected_prop, correct = FALSE) %>%\n",
    "    glance()\n",
    "\n",
    "observed <- as.data.frame(observed,\n",
    "                          row.names = c(\"Monday\", \n",
    "                                        \"Tuesday\", \n",
    "                                        \"Wednesday\", \n",
    "                                        \"Thursday\", \n",
    "                                        \"Friday\", \n",
    "                                        \"Saturday\", \n",
    "                                        \"Sunday\"))\n",
    "expected <- as.data.frame(expected,\n",
    "                          row.names = c(\"Monday\", \n",
    "                                        \"Tuesday\", \n",
    "                                        \"Wednesday\", \n",
    "                                        \"Thursday\", \n",
    "                                        \"Friday\", \n",
    "                                        \"Saturday\", \n",
    "                                        \"Sunday\"))\n",
    "\n",
    "# Checking to see if each level has at least 5 observations\n",
    "expected\n",
    "observed\n",
    "\n",
    "# Test stat\n",
    "births_test"
   ]
  },
  {
   "cell_type": "markdown",
   "id": "a426d445-9f50-4237-8dc0-f1418de11c72",
   "metadata": {
    "tags": []
   },
   "source": [
    "#### c). Our rejection region is values greater than 12.591587243744."
   ]
  },
  {
   "cell_type": "code",
   "execution_count": 93,
   "id": "992f05f1-12a3-4098-8222-d6a00d413924",
   "metadata": {
    "tags": []
   },
   "outputs": [
    {
     "data": {
      "image/png": "[encoded data removed]",
      "text/plain": [
       "plot without title"
      ]
     },
     "metadata": {
      "image/png": {
       "height": 420,
       "width": 420
      }
     },
     "output_type": "display_data"
    }
   ],
   "source": [
    "# plot chi-squared distribution with rejection region and test statistic labeled\n",
    "observed <- c(63, 70, 70, 69, 68, 45, 40)\n",
    "expected <- rep(1/7 * sum(observed), 7)\n",
    "\n",
    "df <- 6  # degrees of freedom\n",
    "\n",
    "ggplot(data.frame(x = c(0, qchisq(0.95, df))), aes(x = x)) +\n",
    "  stat_function(fun = dchisq, args = list(df = df), color = \"blue\") +\n",
    "  geom_vline(xintercept = qchisq(0.95, df), color = \"red\", linetype = \"dashed\") +\n",
    "  geom_vline(xintercept = sum((observed - expected)^2/expected), color = \"green\") +\n",
    "  geom_text(aes(x = qchisq(0.95, df) + 1, y = 0.03, label = \"Reject H0\"), color = \"red\") +\n",
    "  geom_text(aes(x = sum((observed - expected)^2/expected) + 1, y = 0.03, label = \"Test Statistic\"), color = \"green\") +\n",
    "  ggtitle(paste0(\"Chi-Squared Distribution with \", df, \" Degrees of Freedom\")) +\n",
    "  xlab(\"Chi-Squared Value\") +\n",
    "  ylab(\"Density\")"
   ]
  },
  {
   "cell_type": "code",
   "execution_count": 45,
   "id": "c43fe5cb-fb79-4d16-bae2-a265f135e79a",
   "metadata": {
    "tags": []
   },
   "outputs": [
    {
     "data": {
      "text/html": [
       "12.591587243744"
      ],
      "text/latex": [
       "12.591587243744"
      ],
      "text/markdown": [
       "12.591587243744"
      ],
      "text/plain": [
       "[1] 12.59159"
      ]
     },
     "metadata": {},
     "output_type": "display_data"
    }
   ],
   "source": [
    "# Rejection region\n",
    "qchisq(0.95, df)"
   ]
  },
  {
   "cell_type": "markdown",
   "id": "2dde2fd2-7c88-4a2b-b225-8909d33254d6",
   "metadata": {},
   "source": [
    "#### d). Our p value is 0.0134 and our degrees of freedom is 6"
   ]
  },
  {
   "cell_type": "code",
   "execution_count": 50,
   "id": "9f316a6c-dcd5-4306-a31b-db3141d4c484",
   "metadata": {
    "tags": []
   },
   "outputs": [
    {
     "data": {
      "text/html": [
       "<table class=\"dataframe\">\n",
       "<caption>A tibble: 1 × 1</caption>\n",
       "<thead>\n",
       "\t<tr><th scope=col>p.value</th></tr>\n",
       "\t<tr><th scope=col>&lt;dbl&gt;</th></tr>\n",
       "</thead>\n",
       "<tbody>\n",
       "\t<tr><td>0.01340469</td></tr>\n",
       "</tbody>\n",
       "</table>\n"
      ],
      "text/latex": [
       "A tibble: 1 × 1\n",
       "\\begin{tabular}{l}\n",
       " p.value\\\\\n",
       " <dbl>\\\\\n",
       "\\hline\n",
       "\t 0.01340469\\\\\n",
       "\\end{tabular}\n"
      ],
      "text/markdown": [
       "\n",
       "A tibble: 1 × 1\n",
       "\n",
       "| p.value &lt;dbl&gt; |\n",
       "|---|\n",
       "| 0.01340469 |\n",
       "\n"
      ],
      "text/plain": [
       "  p.value   \n",
       "1 0.01340469"
      ]
     },
     "metadata": {},
     "output_type": "display_data"
    }
   ],
   "source": [
    "births_test %>%\n",
    "    select(p.value)"
   ]
  },
  {
   "cell_type": "markdown",
   "id": "b6c878eb-5670-4cd3-bf9d-ae6255d90cee",
   "metadata": {},
   "source": [
    "#### e). Based on the p-value of 0.0134, we can reject the null hypothesis"
   ]
  },
  {
   "cell_type": "markdown",
   "id": "89086ebc-120a-4b85-9589-1c655f7d15a9",
   "metadata": {},
   "source": [
    "#### f). Based on the p-value of 0.0134, we can reject the null hypothesis and conclude that the probabilities of childbirth are not equal across all seven days of the week. This means that at least one day has a significantly different probability than the others. Therefore, we can accept the alternative hypothesis that at least one pi is different from the others. "
   ]
  },
  {
   "cell_type": "markdown",
   "id": "b11f1ec9-5078-4b03-ac28-300d8e668e2f",
   "metadata": {},
   "source": [
    "<div style=\"text-align: center; font-size: 18px\">Problem 4</div>"
   ]
  },
  {
   "cell_type": "markdown",
   "id": "88494aef-b7d3-4fbb-bf3e-9b7a5d7f1ea1",
   "metadata": {},
   "source": [
    "#### a). This is an observational study since the researchers did not manipulate or control any variables."
   ]
  },
  {
   "cell_type": "markdown",
   "id": "1e6fd433-8b54-46c3-8b4d-eec15a16b64e",
   "metadata": {},
   "source": [
    "#### b). The explanatory variable: Amount of fish in the diet (categorical) and the response variable: Likelihood of prostate cancer (categorical)."
   ]
  },
  {
   "cell_type": "markdown",
   "id": "ea6265e7-a952-434a-b512-5a796e8818a8",
   "metadata": {},
   "source": [
    "#### c). Hypotheses: Ho: There is no association between the amount of fish in the diet and the likelihood of prostate cancer. Ha: There is an association between the amount of fish in the diet and the likelihood of prostate cancer.\n",
    "\n"
   ]
  },
  {
   "cell_type": "markdown",
   "id": "1669b18b-4bf3-4cf8-b02e-0f7e8f56ad1a",
   "metadata": {},
   "source": [
    "#### d). Independence: The observations must be independent of each other. In this case, we assume that the 6,272 Swedish men in the study were randomly selected and that their fish consumption and prostate cancer status were independent of each other.\n",
    "\n",
    "#### Sample size: Each expected cell count should be greater than or equal to 5. Looking at the expected value table you provided, all expected cell counts appear to meet this condition.\n",
    "\n",
    "#### Since both conditions are satisfied, we can proceed with conducting the chi-squared test for independence to test whether there is an association between fish consumption and the likelihood of prostate cancer.\n",
    "\n",
    "\n",
    "\n",
    "\n"
   ]
  },
  {
   "cell_type": "code",
   "execution_count": 69,
   "id": "1dd1437a-bd02-476b-beb9-8e8411da2a4d",
   "metadata": {
    "tags": []
   },
   "outputs": [
    {
     "data": {
      "text/html": [
       "<table class=\"dataframe\">\n",
       "<caption>A matrix: 2 × 4 of type dbl</caption>\n",
       "<thead>\n",
       "\t<tr><th></th><th scope=col>Large</th><th scope=col>Moderate</th><th scope=col>Small</th><th scope=col>None</th></tr>\n",
       "</thead>\n",
       "<tbody>\n",
       "\t<tr><th scope=row>Yes</th><td> 42</td><td> 209</td><td> 201</td><td> 14</td></tr>\n",
       "\t<tr><th scope=row>No</th><td>507</td><td>2769</td><td>2420</td><td>110</td></tr>\n",
       "</tbody>\n",
       "</table>\n"
      ],
      "text/latex": [
       "A matrix: 2 × 4 of type dbl\n",
       "\\begin{tabular}{r|llll}\n",
       "  & Large & Moderate & Small & None\\\\\n",
       "\\hline\n",
       "\tYes &  42 &  209 &  201 &  14\\\\\n",
       "\tNo & 507 & 2769 & 2420 & 110\\\\\n",
       "\\end{tabular}\n"
      ],
      "text/markdown": [
       "\n",
       "A matrix: 2 × 4 of type dbl\n",
       "\n",
       "| <!--/--> | Large | Moderate | Small | None |\n",
       "|---|---|---|---|---|\n",
       "| Yes |  42 |  209 |  201 |  14 |\n",
       "| No | 507 | 2769 | 2420 | 110 |\n",
       "\n"
      ],
      "text/plain": [
       "    Large Moderate Small None\n",
       "Yes  42    209      201   14 \n",
       "No  507   2769     2420  110 "
      ]
     },
     "metadata": {},
     "output_type": "display_data"
    },
    {
     "data": {
      "text/html": [
       "<table class=\"dataframe\">\n",
       "<caption>A matrix: 2 × 4 of type dbl</caption>\n",
       "<thead>\n",
       "\t<tr><th></th><th scope=col>Large</th><th scope=col>Moderate</th><th scope=col>Small</th><th scope=col>None</th></tr>\n",
       "</thead>\n",
       "<tbody>\n",
       "\t<tr><th scope=row>Yes</th><td> 40.78986</td><td> 221.2608</td><td> 194.7363</td><td>  9.21301</td></tr>\n",
       "\t<tr><th scope=row>No</th><td>508.21014</td><td>2756.7392</td><td>2426.2637</td><td>114.78699</td></tr>\n",
       "</tbody>\n",
       "</table>\n"
      ],
      "text/latex": [
       "A matrix: 2 × 4 of type dbl\n",
       "\\begin{tabular}{r|llll}\n",
       "  & Large & Moderate & Small & None\\\\\n",
       "\\hline\n",
       "\tYes &  40.78986 &  221.2608 &  194.7363 &   9.21301\\\\\n",
       "\tNo & 508.21014 & 2756.7392 & 2426.2637 & 114.78699\\\\\n",
       "\\end{tabular}\n"
      ],
      "text/markdown": [
       "\n",
       "A matrix: 2 × 4 of type dbl\n",
       "\n",
       "| <!--/--> | Large | Moderate | Small | None |\n",
       "|---|---|---|---|---|\n",
       "| Yes |  40.78986 |  221.2608 |  194.7363 |   9.21301 |\n",
       "| No | 508.21014 | 2756.7392 | 2426.2637 | 114.78699 |\n",
       "\n"
      ],
      "text/plain": [
       "    Large     Moderate  Small     None     \n",
       "Yes  40.78986  221.2608  194.7363   9.21301\n",
       "No  508.21014 2756.7392 2426.2637 114.78699"
      ]
     },
     "metadata": {},
     "output_type": "display_data"
    }
   ],
   "source": [
    "fish_observed <- matrix(c(42, 209, 201, 14, 507, 2769, 2420, 110), \n",
    "       nrow = 2, byrow = TRUE, \n",
    "       dimnames = list(c(\"Yes\", \"No\"), \n",
    "                       c(\"Large\", \"Moderate\", \"Small\", \"None\")))\n",
    "\n",
    "\n",
    "# Display\n",
    "fish_observed\n",
    "fish_expected <- chisq.test(fish_observed, correct = FALSE)$expected\n",
    "fish_expected"
   ]
  },
  {
   "cell_type": "markdown",
   "id": "4da78fb2-7e47-4654-8f2d-8c2dbab9fc46",
   "metadata": {},
   "source": [
    "#### e)."
   ]
  },
  {
   "cell_type": "code",
   "execution_count": 66,
   "id": "d4e6e4ec-d276-4a49-bc71-f68c258a6137",
   "metadata": {
    "tags": []
   },
   "outputs": [
    {
     "data": {
      "text/html": [
       "<table class=\"dataframe\">\n",
       "<caption>A tibble: 1 × 1</caption>\n",
       "<thead>\n",
       "\t<tr><th scope=col>statistic</th></tr>\n",
       "\t<tr><th scope=col>&lt;dbl&gt;</th></tr>\n",
       "</thead>\n",
       "<tbody>\n",
       "\t<tr><td>3.677281</td></tr>\n",
       "</tbody>\n",
       "</table>\n"
      ],
      "text/latex": [
       "A tibble: 1 × 1\n",
       "\\begin{tabular}{l}\n",
       " statistic\\\\\n",
       " <dbl>\\\\\n",
       "\\hline\n",
       "\t 3.677281\\\\\n",
       "\\end{tabular}\n"
      ],
      "text/markdown": [
       "\n",
       "A tibble: 1 × 1\n",
       "\n",
       "| statistic &lt;dbl&gt; |\n",
       "|---|\n",
       "| 3.677281 |\n",
       "\n"
      ],
      "text/plain": [
       "  statistic\n",
       "1 3.677281 "
      ]
     },
     "metadata": {},
     "output_type": "display_data"
    }
   ],
   "source": [
    "# Test statistic\n",
    "chisq.test(fish_observed, correct = FALSE) %>%\n",
    "    glance() %>%\n",
    "        select(statistic)"
   ]
  },
  {
   "cell_type": "markdown",
   "id": "f58d6860-9281-44d0-95fa-6ed8909d503f",
   "metadata": {},
   "source": [
    "#### f). "
   ]
  },
  {
   "cell_type": "code",
   "execution_count": 94,
   "id": "9a6ad4c5-0cc1-4f53-b6b1-e8618279253e",
   "metadata": {
    "tags": []
   },
   "outputs": [
    {
     "data": {
      "image/png": "[encoded data removed]",
      "text/plain": [
       "plot without title"
      ]
     },
     "metadata": {
      "image/png": {
       "height": 420,
       "width": 420
      }
     },
     "output_type": "display_data"
    }
   ],
   "source": [
    "# Rejection region\n",
    "df2 <- 3\n",
    "\n",
    "ggplot(data.frame(x = c(0, qchisq(0.95, df2))), aes(x = x)) +\n",
    "    stat_function(fun = dchisq, args = list(df = df2), color = \"blue\") +\n",
    "    geom_vline(xintercept = sum((fish_observed - fish_expected)^2/fish_expected), color = \"green\") +\n",
    "    geom_vline(xintercept = qchisq(0.95, df2), color = \"red\") +\n",
    "    geom_text(aes(x = qchisq(0.95, df2) + 1, y = 0.03, label = \"Reject H0\"), color = \"red\") +\n",
    "    geom_text(aes(x = sum((fish_observed - fish_expected)^2/fish_expected) + 1, y = 0.05, label = \"Test Statistic\"), color = \"green\") +\n",
    "    ggtitle(paste0(\"Chi-Squared Distribution with \", df2, \" Degrees of Freedom\")) +\n",
    "    xlab(\"Chi-Squared Value\") +\n",
    "    ylab(\"Density\") +\n",
    "    xlim(c(0, critical_value*2))\n"
   ]
  },
  {
   "cell_type": "code",
   "execution_count": 95,
   "id": "56ff43e1-55ec-44bc-806e-7bf5b8910b7c",
   "metadata": {
    "tags": []
   },
   "outputs": [
    {
     "data": {
      "text/html": [
       "7.81472790325118"
      ],
      "text/latex": [
       "7.81472790325118"
      ],
      "text/markdown": [
       "7.81472790325118"
      ],
      "text/plain": [
       "[1] 7.814728"
      ]
     },
     "metadata": {},
     "output_type": "display_data"
    }
   ],
   "source": [
    "# Rejection region\n",
    "qchisq(0.95, df2)"
   ]
  },
  {
   "cell_type": "markdown",
   "id": "1a104d10-c101-426c-aaab-016a2e60adbb",
   "metadata": {},
   "source": [
    "#### g). The p-value is 0.2985 and our degrees of freedom is 3"
   ]
  },
  {
   "cell_type": "code",
   "execution_count": 97,
   "id": "17038813-8a36-4483-8ec2-538a6badcead",
   "metadata": {
    "tags": []
   },
   "outputs": [
    {
     "data": {
      "text/html": [
       "<table class=\"dataframe\">\n",
       "<caption>A tibble: 1 × 1</caption>\n",
       "<thead>\n",
       "\t<tr><th scope=col>p.value</th></tr>\n",
       "\t<tr><th scope=col>&lt;dbl&gt;</th></tr>\n",
       "</thead>\n",
       "<tbody>\n",
       "\t<tr><td>0.2984868</td></tr>\n",
       "</tbody>\n",
       "</table>\n"
      ],
      "text/latex": [
       "A tibble: 1 × 1\n",
       "\\begin{tabular}{l}\n",
       " p.value\\\\\n",
       " <dbl>\\\\\n",
       "\\hline\n",
       "\t 0.2984868\\\\\n",
       "\\end{tabular}\n"
      ],
      "text/markdown": [
       "\n",
       "A tibble: 1 × 1\n",
       "\n",
       "| p.value &lt;dbl&gt; |\n",
       "|---|\n",
       "| 0.2984868 |\n",
       "\n"
      ],
      "text/plain": [
       "  p.value  \n",
       "1 0.2984868"
      ]
     },
     "metadata": {},
     "output_type": "display_data"
    }
   ],
   "source": [
    "chisq.test(fish_observed, correct = FALSE) %>%\n",
    "    glance() %>%\n",
    "        select(p.value)"
   ]
  },
  {
   "cell_type": "markdown",
   "id": "514a51e9-540c-4c0e-8b47-bac3a6ad39c2",
   "metadata": {},
   "source": [
    "#### h). Because our p value is greater than 0.05 as such, we fail to reject the null hypothesis."
   ]
  },
  {
   "cell_type": "markdown",
   "id": "aa3f794b-40cc-455a-8759-6506bae21766",
   "metadata": {},
   "source": [
    "#### i). Because we accept our null hypothesis we can conclude that there is not enough evidence to suggest that there is a statistically significant association between the amount of fish in the diet and the likelihood of prostate cancer in Swedish men."
   ]
  }
 ],
 "metadata": {
  "kernelspec": {
   "display_name": "R",
   "language": "R",
   "name": "ir"
  },
  "language_info": {
   "codemirror_mode": "r",
   "file_extension": ".r",
   "mimetype": "text/x-r-source",
   "name": "R",
   "pygments_lexer": "r",
   "version": "4.2.2"
  }
 },
 "nbformat": 4,
 "nbformat_minor": 5
}
